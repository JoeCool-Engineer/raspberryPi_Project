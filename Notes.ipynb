{
 "cells": [
  {
   "cell_type": "markdown",
   "metadata": {},
   "source": [
    "# Notes\n",
    "[How to control an LED using C/C++ on a Raspberry Pi](https://youtu.be/i7CkBZVkD5E?si=v5xaHdPIq37875bg) with Build Robots Better<br>\n",
    "Running the <code>flash-led4.cpp</code> the following provides details on setting up the Raspberry Pi 4 and breadboard so that the leds will flash.\n",
    "\n",
    "For reference [The pigpio library](https://abyz.me.uk/rpi/pigpio/index.html) will provide installation instructions, a python interface, and C++ guide.\n"
   ]
  },
  {
   "cell_type": "code",
   "execution_count": 7,
   "metadata": {},
   "outputs": [
    {
     "name": "stdout",
     "output_type": "stream",
     "text": [
      "The LED's forward current: 0.02\n",
      "\n",
      "The supply voltage of the gpio pins are: 3.3\n",
      "\n",
      "Given the LED's forward current and the LED's forward voltage the red LED will need a resistor value of: 54.99999999999998\n",
      "Given the LED's forward current and the LED's forward voltage the blue LED will need a resistor value of: 4.999999999999982\n"
     ]
    }
   ],
   "source": [
    "led_I = 20/1000  # miliamps to amps\n",
    "r_vf = 2.2\n",
    "b_vf = 3.2\n",
    "gpio_vs = 3.3\n",
    "\n",
    "r_resistor_diff = gpio_vs - r_vf\n",
    "b_resistor_diff = gpio_vs - b_vf\n",
    "r_resistor = r_resistor_diff / led_I\n",
    "b_resistor = b_resistor_diff / led_I\n",
    "\n",
    "print(f\"The LED's forward current: {led_I}\\n\")\n",
    "print(f\"The supply voltage of the gpio pins are: {gpio_vs}\\n\")\n",
    "\n",
    "print(f\"Given the LED's forward current and the LED's forward voltage the red LED will need a resistor value of: {r_resistor}\")\n",
    "print(f\"Given the LED's forward current and the LED's forward voltage the blue LED will need a resistor value of: {b_resistor}\")\n"
   ]
  }
 ],
 "metadata": {
  "kernelspec": {
   "display_name": "Python 3",
   "language": "python",
   "name": "python3"
  },
  "language_info": {
   "codemirror_mode": {
    "name": "ipython",
    "version": 3
   },
   "file_extension": ".py",
   "mimetype": "text/x-python",
   "name": "python",
   "nbconvert_exporter": "python",
   "pygments_lexer": "ipython3",
   "version": "3.9.2"
  }
 },
 "nbformat": 4,
 "nbformat_minor": 2
}
